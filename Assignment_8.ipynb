{
  "nbformat": 4,
  "nbformat_minor": 0,
  "metadata": {
    "colab": {
      "provenance": [],
      "authorship_tag": "ABX9TyOxDQ/089LP1gvDYULxtnqV",
      "include_colab_link": true
    },
    "kernelspec": {
      "name": "python3",
      "display_name": "Python 3"
    },
    "language_info": {
      "name": "python"
    }
  },
  "cells": [
    {
      "cell_type": "markdown",
      "metadata": {
        "id": "view-in-github",
        "colab_type": "text"
      },
      "source": [
        "<a href=\"https://colab.research.google.com/github/Pranjal-sharma-SDE/Assignment-8/blob/main/Assignment_8.ipynb\" target=\"_parent\"><img src=\"https://colab.research.google.com/assets/colab-badge.svg\" alt=\"Open In Colab\"/></a>"
      ]
    },
    {
      "cell_type": "code",
      "execution_count": 1,
      "metadata": {
        "colab": {
          "base_uri": "https://localhost:8080/"
        },
        "id": "p0n8LeaI2f7z",
        "outputId": "b4b05a0a-fef2-4778-d06b-e5f79a3316b5"
      },
      "outputs": [
        {
          "output_type": "execute_result",
          "data": {
            "text/plain": [
              "5"
            ]
          },
          "metadata": {},
          "execution_count": 1
        }
      ],
      "source": []
    },
    {
      "cell_type": "markdown",
      "source": [
        "# Q-1"
      ],
      "metadata": {
        "id": "sqJ2Oz1b2-08"
      }
    },
    {
      "cell_type": "code",
      "source": [
        "# Using the built-in function 'len()'\n",
        "my_list = [1, 2, 3, 4, 5]\n",
        "length = len(my_list)\n",
        "print(length)  # Output: 5\n"
      ],
      "metadata": {
        "colab": {
          "base_uri": "https://localhost:8080/"
        },
        "id": "weevbbrL230X",
        "outputId": "f34b324e-f282-49f0-e2e9-9c57c59e36ce"
      },
      "execution_count": 2,
      "outputs": [
        {
          "output_type": "stream",
          "name": "stdout",
          "text": [
            "5\n"
          ]
        }
      ]
    },
    {
      "cell_type": "code",
      "source": [
        "# Defining a user-defined function 'square'\n",
        "def square(x):\n",
        "  return x*x\n",
        "\n",
        "#calling the user-define function\n",
        "square(9)"
      ],
      "metadata": {
        "colab": {
          "base_uri": "https://localhost:8080/"
        },
        "id": "JcXP18HU29yB",
        "outputId": "ecfd16e0-6d70-49d1-fd74-ba203c5a5e62"
      },
      "execution_count": 3,
      "outputs": [
        {
          "output_type": "execute_result",
          "data": {
            "text/plain": [
              "81"
            ]
          },
          "metadata": {},
          "execution_count": 3
        }
      ]
    },
    {
      "cell_type": "markdown",
      "source": [
        "# Q-2\n"
      ],
      "metadata": {
        "id": "lObPht8J37hb"
      }
    },
    {
      "cell_type": "code",
      "source": [
        "def greet1(name, age):\n",
        "    print(f\"Hello {name}! You are {age} years old.\")\n",
        "\n",
        "# Calling the function with positional arguments\n",
        "greet1(\"Alice\", 25)\n",
        "def greet2(name, age):\n",
        "    print(f\"Hello {name}! You are {age} years old.\")\n",
        "\n",
        "# Calling the function with keyword arguments\n",
        "greet2(age=30, name=\"Bob\")\n",
        "def greet3(name, age):\n",
        "    print(f\"Hello {name}! You are {age} years old.\")\n",
        "\n",
        "# Calling the function with a mix of positional and keyword arguments\n",
        "greet3(\"Alice\", age=25)\n"
      ],
      "metadata": {
        "colab": {
          "base_uri": "https://localhost:8080/"
        },
        "id": "oQIC4SBl3NTo",
        "outputId": "61dd1375-a86c-401d-e036-dd248c5c51a8"
      },
      "execution_count": 4,
      "outputs": [
        {
          "output_type": "stream",
          "name": "stdout",
          "text": [
            "Hello Alice! You are 25 years old.\n",
            "Hello Bob! You are 30 years old.\n",
            "Hello Alice! You are 25 years old.\n"
          ]
        }
      ]
    },
    {
      "cell_type": "markdown",
      "source": [
        "# Q-3"
      ],
      "metadata": {
        "id": "8MPib1_G4u9R"
      }
    },
    {
      "cell_type": "code",
      "source": [
        "def check_even_odd(num):\n",
        "    if num % 2 == 0:\n",
        "        return \"Even\"\n",
        "    else:\n",
        "        return \"Odd\"\n",
        "\n",
        "result1 = check_even_odd(4)\n",
        "print(result1)  # Output: \"Even\"\n",
        "\n",
        "result2 = check_even_odd(7)\n",
        "print(result2)  # Output: \"Odd\"\n"
      ],
      "metadata": {
        "colab": {
          "base_uri": "https://localhost:8080/"
        },
        "id": "3kd0Zci64ELS",
        "outputId": "794f513f-8245-4c07-f9f0-0a14c2d755d2"
      },
      "execution_count": 5,
      "outputs": [
        {
          "output_type": "stream",
          "name": "stdout",
          "text": [
            "Even\n",
            "Odd\n"
          ]
        }
      ]
    },
    {
      "cell_type": "markdown",
      "source": [
        "# Q-4"
      ],
      "metadata": {
        "id": "jQzfcfhD5c02"
      }
    },
    {
      "cell_type": "code",
      "source": [
        "square= lambda x: x*x\n",
        "square(5)"
      ],
      "metadata": {
        "colab": {
          "base_uri": "https://localhost:8080/"
        },
        "id": "SxkRuOvB5cY6",
        "outputId": "2dae5cb4-0295-4441-eb48-496b6ffc6d00"
      },
      "execution_count": 6,
      "outputs": [
        {
          "output_type": "execute_result",
          "data": {
            "text/plain": [
              "25"
            ]
          },
          "metadata": {},
          "execution_count": 6
        }
      ]
    },
    {
      "cell_type": "code",
      "source": [
        "products = [\n",
        "    {'name': 'Product1', 'price': 50},\n",
        "    {'name': 'Product2', 'price': 30},\n",
        "    {'name': 'Product3', 'price': 40},\n",
        "    {'name': 'Product4', 'price': 20},\n",
        "]\n",
        "\n",
        "sort_dic=sorted(products,key=lambda x: x['price'])\n",
        "sort_dic"
      ],
      "metadata": {
        "colab": {
          "base_uri": "https://localhost:8080/"
        },
        "id": "87spxY-I4xhD",
        "outputId": "70f394e9-711b-4117-a5c0-c71d85b875f3"
      },
      "execution_count": 11,
      "outputs": [
        {
          "output_type": "execute_result",
          "data": {
            "text/plain": [
              "[{'name': 'Product4', 'price': 20},\n",
              " {'name': 'Product2', 'price': 30},\n",
              " {'name': 'Product3', 'price': 40},\n",
              " {'name': 'Product1', 'price': 50}]"
            ]
          },
          "metadata": {},
          "execution_count": 11
        }
      ]
    },
    {
      "cell_type": "markdown",
      "source": [
        "# Q-5"
      ],
      "metadata": {
        "id": "nnRswp9E73D5"
      }
    },
    {
      "cell_type": "code",
      "source": [
        "x = 10  # Global variable\n",
        "\n",
        "def my_function():\n",
        "    x = 20  # Local variable\n",
        "    print(x)  # Output: 20\n",
        "\n",
        "my_function()\n",
        "print(x)  # Output: 10\n"
      ],
      "metadata": {
        "colab": {
          "base_uri": "https://localhost:8080/"
        },
        "id": "SXeAOlkX6VvJ",
        "outputId": "9c3cc51a-fb76-4bd4-af9f-0b672e482601"
      },
      "execution_count": 12,
      "outputs": [
        {
          "output_type": "stream",
          "name": "stdout",
          "text": [
            "20\n",
            "10\n"
          ]
        }
      ]
    },
    {
      "cell_type": "markdown",
      "source": [
        "# Q-6"
      ],
      "metadata": {
        "id": "31OnmuLK96ZK"
      }
    },
    {
      "cell_type": "code",
      "source": [
        "def get_name_and_age():\n",
        "    name = \"Alice\"\n",
        "    age = 25\n",
        "    return name, age\n",
        "\n",
        "result = get_name_and_age()\n",
        "name, age = result\n",
        "\n",
        "print(name)  # Output: \"Alice\"\n",
        "print(age)   # Output: 25\n"
      ],
      "metadata": {
        "colab": {
          "base_uri": "https://localhost:8080/"
        },
        "id": "T86shV0H8KNS",
        "outputId": "57f0ca16-2360-4dfe-e6f5-78ed26e3fba1"
      },
      "execution_count": 13,
      "outputs": [
        {
          "output_type": "stream",
          "name": "stdout",
          "text": [
            "Alice\n",
            "25\n"
          ]
        }
      ]
    },
    {
      "cell_type": "markdown",
      "source": [
        "# Q-7"
      ],
      "metadata": {
        "id": "wtRBjOab-mkQ"
      }
    },
    {
      "cell_type": "code",
      "source": [
        "# Pass by Value\n",
        "def modify_value(num):\n",
        "    num = num + 1\n",
        "    print(num)  # Output: 6\n",
        "\n",
        "value = 5\n",
        "modify_value(value)\n",
        "print(value)  # Output: 5\n",
        "#\n",
        "#Pass by Refrence\n",
        "def modify_list(my_list):\n",
        "    my_list.append(4)\n",
        "    print(my_list)  # Output: [1, 2, 3, 4]\n",
        "\n",
        "my_list = [1, 2, 3]\n",
        "modify_list(my_list)\n",
        "print(my_list)  # Output: [1, 2, 3, 4]\n"
      ],
      "metadata": {
        "colab": {
          "base_uri": "https://localhost:8080/"
        },
        "id": "esWBxNp498yX",
        "outputId": "22398c2a-d9b7-4671-dbdb-63ec8d410b69"
      },
      "execution_count": 14,
      "outputs": [
        {
          "output_type": "stream",
          "name": "stdout",
          "text": [
            "6\n",
            "5\n",
            "[1, 2, 3, 4]\n",
            "[1, 2, 3, 4]\n"
          ]
        }
      ]
    },
    {
      "cell_type": "code",
      "source": [],
      "metadata": {
        "id": "jznP2_02ElbO"
      },
      "execution_count": null,
      "outputs": []
    },
    {
      "cell_type": "markdown",
      "source": [
        "# Q-8"
      ],
      "metadata": {
        "id": "zaCeNlEIEmoD"
      }
    },
    {
      "cell_type": "code",
      "source": [
        "import math\n",
        "\n",
        "def perform_operation():\n",
        "    x = float(input(\"Enter a value: \"))\n",
        "    operation = input(\"Enter the operation (log, exp, power, sqrt): \")\n",
        "\n",
        "    result = None\n",
        "\n",
        "    if operation == \"log\":\n",
        "        result = math.log(x)\n",
        "    elif operation == \"exp\":\n",
        "        result = math.exp(x)\n",
        "    elif operation == \"power\":\n",
        "        result = 2 ** x\n",
        "    elif operation == \"sqrt\":\n",
        "        result = math.sqrt(x)\n",
        "    else:\n",
        "        print(\"Invalid operation\")\n",
        "\n",
        "    if result is not None:\n",
        "        print(\"Result:\", result)\n",
        "\n",
        "perform_operation()"
      ],
      "metadata": {
        "colab": {
          "base_uri": "https://localhost:8080/"
        },
        "id": "yU3RugpK-0CH",
        "outputId": "ca026202-6bf9-4438-b473-a16b6cbcda3b"
      },
      "execution_count": 15,
      "outputs": [
        {
          "output_type": "stream",
          "name": "stdout",
          "text": [
            "Enter a value: 9\n",
            "Enter the operation (log, exp, power, sqrt): log\n",
            "Result: 2.1972245773362196\n"
          ]
        }
      ]
    },
    {
      "cell_type": "markdown",
      "source": [
        "# Q-9"
      ],
      "metadata": {
        "id": "NHnn4T9MGhJ3"
      }
    },
    {
      "cell_type": "code",
      "source": [
        "def extract_first_last_name(full_name):\n",
        "    names = full_name.split()\n",
        "    first_name = names[0]\n",
        "    last_name = names[-1]\n",
        "    return first_name, last_name\n",
        "\n",
        "full_name = \"Pranjal Kumar Sharma\"\n",
        "first_name, last_name = extract_first_last_name(full_name)\n",
        "print(\"First Name:\", first_name)\n",
        "print(\"Last Name:\", last_name)"
      ],
      "metadata": {
        "colab": {
          "base_uri": "https://localhost:8080/"
        },
        "id": "Rsg_PC82F1Q5",
        "outputId": "5dd2978a-1d53-48b1-96cf-0148057d7755"
      },
      "execution_count": 20,
      "outputs": [
        {
          "output_type": "stream",
          "name": "stdout",
          "text": [
            "First Name: Pranjal\n",
            "Last Name: Sharma\n"
          ]
        }
      ]
    },
    {
      "cell_type": "code",
      "source": [],
      "metadata": {
        "id": "u9Y-uz5HGnwE"
      },
      "execution_count": null,
      "outputs": []
    }
  ]
}